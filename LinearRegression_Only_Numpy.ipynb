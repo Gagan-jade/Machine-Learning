{
  "cells": [
    {
      "cell_type": "markdown",
      "metadata": {
        "id": "view-in-github",
        "colab_type": "text"
      },
      "source": [
        "<a href=\"https://colab.research.google.com/github/Gagan-jade/Machine-Learning/blob/main/LinearRegression_Only_Numpy.ipynb\" target=\"_parent\"><img src=\"https://colab.research.google.com/assets/colab-badge.svg\" alt=\"Open In Colab\"/></a>"
      ]
    },
    {
      "cell_type": "code",
      "source": [
        "import numpy as np"
      ],
      "metadata": {
        "id": "yM0-1Gyz5fUg"
      },
      "execution_count": 76,
      "outputs": []
    },
    {
      "cell_type": "code",
      "source": [
        "def predict(X_train, y_train, X):\n",
        "  deviation_X = X_train - np.mean(X_train)\n",
        "  deviation_y = y_train - np.mean(y_train)\n",
        "  sum_product_of_deviations = np.sum(np.multiply(deviation_X, deviation_y))\n",
        "  sum_sqr_X_deviation = np.sum(np.square(deviation_X))\n",
        "  slope = sum_product_of_deviations/sum_sqr_X_deviation\n",
        "  calculate_intercept(slope, np.mean(X_train), np.mean(y_train), X)"
      ],
      "metadata": {
        "id": "9QTKGcvr5gx7"
      },
      "execution_count": 77,
      "outputs": []
    },
    {
      "cell_type": "code",
      "source": [
        "X_train = np.array([8, 10, 12])\n",
        "y_train = np.array([10,13,16])"
      ],
      "metadata": {
        "id": "U_0f-43I6eMN"
      },
      "execution_count": 78,
      "outputs": []
    },
    {
      "cell_type": "code",
      "source": [
        "def calculate_intercept(slope, X_mean, y_mean, X):\n",
        "  intercept = y_mean - (slope * X_mean)\n",
        "  regressor(slope, intercept, X)"
      ],
      "metadata": {
        "id": "eJ3cIeoC6o_s"
      },
      "execution_count": 79,
      "outputs": []
    },
    {
      "cell_type": "code",
      "source": [
        "def regressor(slope, intercept, X):\n",
        "  prediction = (slope*X) + intercept\n",
        "  print(prediction)"
      ],
      "metadata": {
        "id": "IA77DG4k_er_"
      },
      "execution_count": 80,
      "outputs": []
    },
    {
      "cell_type": "code",
      "source": [
        "X_train = np.array([8, 10, 12])"
      ],
      "metadata": {
        "id": "5AxEHztABFed"
      },
      "execution_count": 81,
      "outputs": []
    },
    {
      "cell_type": "code",
      "source": [
        "y_train = np.array([10, 13, 16])"
      ],
      "metadata": {
        "id": "gJsMLfDEEGvq"
      },
      "execution_count": 82,
      "outputs": []
    },
    {
      "cell_type": "code",
      "source": [
        "X = 8"
      ],
      "metadata": {
        "id": "v2FHxB3nEU-p"
      },
      "execution_count": 83,
      "outputs": []
    },
    {
      "cell_type": "code",
      "source": [
        "predict(X_train, y_train, X)"
      ],
      "metadata": {
        "id": "fEEGx8agEMS6",
        "outputId": "899db4a4-7b81-4fcb-f7b4-5f5aae539027",
        "colab": {
          "base_uri": "https://localhost:8080/"
        }
      },
      "execution_count": 84,
      "outputs": [
        {
          "output_type": "stream",
          "name": "stdout",
          "text": [
            "10.0\n"
          ]
        }
      ]
    },
    {
      "cell_type": "code",
      "source": [],
      "metadata": {
        "id": "ufzprGqrEfGh"
      },
      "execution_count": null,
      "outputs": []
    }
  ],
  "metadata": {
    "colab": {
      "name": "Welcome To Colab",
      "toc_visible": true,
      "provenance": [],
      "include_colab_link": true
    },
    "kernelspec": {
      "display_name": "Python 3",
      "name": "python3"
    }
  },
  "nbformat": 4,
  "nbformat_minor": 0
}